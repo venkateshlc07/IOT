{
 "cells": [
  {
   "cell_type": "code",
   "execution_count": 20,
   "metadata": {},
   "outputs": [],
   "source": [
    "import requests\n",
    "import json"
   ]
  },
  {
   "cell_type": "code",
   "execution_count": 10,
   "metadata": {},
   "outputs": [],
   "source": [
    "#Verifying the email\n",
    "def Email_verify(Email,API_Key):\n",
    "    url = \"https://api.towerdata.com/v5/ev\"\n",
    "    querystring = {\"timeout\":\"10\",\"email\":Email,\"api_key\":API_Key}\n",
    "    response = requests.request(\"GET\", url, params=querystring)\n",
    "    return response.text"
   ]
  },
  {
   "cell_type": "markdown",
   "metadata": {},
   "source": [
    "The Tower Data have only option to verify the email address there is no option like to retrieve the email address based on the first_name,last_name & company.\n",
    "\n",
    "The TowerData API  return JSON format with the keys email_validation,email_correction,status\n",
    "The status key has the value whether email is valid or invalid\n",
    "The email_validation key has requested address\n",
    "The email_corrections key has the corrected address if the email have spelling mistakes or some characters misplaced."
   ]
  },
  {
   "cell_type": "code",
   "execution_count": 23,
   "metadata": {},
   "outputs": [
    {
     "data": {
      "text/plain": [
       "'{\"email_validation\":{\"status_code\":400,\"address\":\"venkateshlc@expressanalytics.net\",\"status\":\"invalid\"}}'"
      ]
     },
     "execution_count": 23,
     "metadata": {},
     "output_type": "execute_result"
    }
   ],
   "source": [
    "#A Json Response whether the email is valid or not (status key)\n",
    "Email_verify('venkateshlc@expressanalytics.net','7f072dcd02458f45e1691fc106c9a29d')"
   ]
  },
  {
   "cell_type": "code",
   "execution_count": 24,
   "metadata": {},
   "outputs": [
    {
     "data": {
      "text/plain": [
       "'{\"email_validation\":{\"status_code\":150,\"address\":\"venkatesh,expressanalytics.net\",\"email_corrections\":[\"venkatesh@expressanalytics.net\"],\"status\":\"invalid\"}}'"
      ]
     },
     "execution_count": 24,
     "metadata": {},
     "output_type": "execute_result"
    }
   ],
   "source": [
    "#An extra email_corrections key returned with correct eamil address if passed email have some spelling mistakes\n",
    "Email_verify('venkatesh,expressanalytics.net','7f072dcd02458f45e1691fc106c9a29d')"
   ]
  },
  {
   "cell_type": "code",
   "execution_count": null,
   "metadata": {},
   "outputs": [],
   "source": []
  }
 ],
 "metadata": {
  "celltoolbar": "Raw Cell Format",
  "kernelspec": {
   "display_name": "Python 3",
   "language": "python",
   "name": "python3"
  },
  "language_info": {
   "codemirror_mode": {
    "name": "ipython",
    "version": 3
   },
   "file_extension": ".py",
   "mimetype": "text/x-python",
   "name": "python",
   "nbconvert_exporter": "python",
   "pygments_lexer": "ipython3",
   "version": "3.7.3"
  }
 },
 "nbformat": 4,
 "nbformat_minor": 2
}
