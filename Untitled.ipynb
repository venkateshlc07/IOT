{
 "cells": [
  {
   "cell_type": "code",
   "execution_count": 1,
   "metadata": {},
   "outputs": [],
   "source": [
    "from selenium import webdriver\n",
    "import time"
   ]
  },
  {
   "cell_type": "code",
   "execution_count": 2,
   "metadata": {},
   "outputs": [],
   "source": [
    "driver = webdriver.Chrome()"
   ]
  },
  {
   "cell_type": "code",
   "execution_count": 3,
   "metadata": {},
   "outputs": [],
   "source": [
    "driver.get('https://app.hubspot.com/email/287495/details/26241194486/recipients/opened')"
   ]
  },
  {
   "cell_type": "code",
   "execution_count": null,
   "metadata": {},
   "outputs": [],
   "source": []
  },
  {
   "cell_type": "code",
   "execution_count": null,
   "metadata": {},
   "outputs": [],
   "source": [
    "all_rows = driver.find_elements_by_class_name('recipients-recipient-row')\n",
    "for row in all_rows:\n",
    "    row.click()\n",
    "    time.sleep(1)\n",
    "    each_row = driver.find_elements_by_class_name('recipients-event-row')\n",
    "    each"
   ]
  },
  {
   "cell_type": "code",
   "execution_count": 160,
   "metadata": {},
   "outputs": [],
   "source": []
  },
  {
   "cell_type": "code",
   "execution_count": 4,
   "metadata": {},
   "outputs": [],
   "source": [
    "Click_list = []\n",
    "def hubspot_report():\n",
    "    all_rows = driver.find_elements_by_class_name('recipients-recipient-row')\n",
    "    for row in all_rows:\n",
    "        row.click()\n",
    "        time.sleep(2)\n",
    "        #print(row.text)\n",
    "        each_row = driver.find_elements_by_class_name('recipients-event-row')\n",
    "        temp_list = []\n",
    "        temp_list.append(row.text)\n",
    "        for r in range(0,len(each_row),4):\n",
    "\n",
    "            #if ('Clicked' in row.text):\n",
    "\n",
    "            if r == 0:\n",
    "                #print(r,' ',type(each_row[r].text))\n",
    "                sent = each_row[r].text\n",
    "                temp_list.append(sent)\n",
    "            elif r == 4:\n",
    "                delivered = each_row[r].text\n",
    "                temp_list.append(delivered)\n",
    "            elif r == 8:\n",
    "                opened = each_row[r].text\n",
    "                temp_list.append(opened)\n",
    "            elif r == 12:\n",
    "                Clicked = each_row[r].text\n",
    "                temp_list.append(Clicked)\n",
    "            elif r == 16:\n",
    "                Clicked2 = each_row[r].text\n",
    "                temp_list.append(Clicked2)\n",
    "        if 'Opened' in row.text:\n",
    "            temp_list.append('None')\n",
    "            temp_list.append('None')\n",
    "\n",
    "        print(temp_list)\n",
    "        Click_list.append(temp_list)\n",
    "        print(\"-------------------------\")\n",
    "        row.click()\n",
    "        time.sleep(2)\n",
    "    "
   ]
  },
  {
   "cell_type": "code",
   "execution_count": 5,
   "metadata": {},
   "outputs": [
    {
     "name": "stdout",
     "output_type": "stream",
     "text": [
      "['Carl Fischer <carl@accuratedatapayroll.com>\\nOpened', 'Sent February 24, 2020 10:30 AM', 'Delivered February 24, 2020 10:33 AM', 'Opened\\nThunderbird 68.4.2 on Desktop computer\\nFebruary 25, 2020 9:44 AM', 'None', 'None']\n",
      "-------------------------\n",
      "['Jeffrey Rosenblum <jrosenblum@acumenny.com>\\nOpened', 'Sent February 24, 2020 10:30 AM', 'Delivered February 24, 2020 10:39 AM', 'Opened\\nMicrosoft Office on Desktop computer\\nFebruary 24, 2020 10:55 AM', 'None', 'None']\n",
      "-------------------------\n",
      "['Anne Thompson <anne@aftins.com>\\nOpened', 'None', 'None']\n",
      "-------------------------\n",
      "['Michelle Urso <murso@alltrustinsurance.com>\\nOpened', 'Sent February 24, 2020 10:30 AM', 'Delivered February 24, 2020 10:39 AM', 'Opened\\nSafari mobile on Mobile\\nFebruary 24, 2020 10:46 AM', 'None', 'None']\n",
      "-------------------------\n",
      "['William Eginton <william.eginton@ametek.com>\\nOpened', 'Sent February 24, 2020 10:30 AM', 'Delivered February 24, 2020 10:39 AM', 'Opened\\nApple Mail on Desktop computer\\nFebruary 26, 2020 8:45 AM', 'None', 'None']\n",
      "-------------------------\n",
      "['Ana Dhelia Rodriguez <ana@anainsurance.com>\\nOpened', 'Sent February 24, 2020 10:30 AM', 'Delivered February 24, 2020 10:39 AM', 'Opened\\nSafari mobile on Mobile\\nFebruary 24, 2020 11:05 PM', 'None', 'None']\n",
      "-------------------------\n",
      "['Moses Gross <moses@anmfunding.com>\\nOpened', 'Sent February 24, 2020 10:30 AM', 'Delivered February 24, 2020 10:33 AM', 'Opened\\nOutlook 2013 on Desktop computer\\nFebruary 24, 2020 11:02 AM', 'None', 'None']\n",
      "-------------------------\n",
      "['Jeffrey Suchevits <jeff_suchevits@apllogistics.com>\\nClicked\\nhttps://expressanalytics.com/analytics/artificial-intelligence/machine-learning-in-data-analytics-2', 'Sent February 24, 2020 10:30 AM', 'Delivered February 24, 2020 10:39 AM', 'Opened\\nIE 11.0 on Desktop computer\\nFebruary 24, 2020 10:39 AM', 'Clicked\\nhttps://expressanalytics.com/analytics/artificial-intelligence/machine-learning-in-data-analytics-2\\nFebruary 24, 2020 10:39 AM', 'Clicked\\nhttps://expressanalytics.com/analytics/data-analytics/homomorphic-encryption-is-about-to-become-mainstream\\nFebruary 24, 2020 10:39 AM']\n",
      "-------------------------\n",
      "['Sandra L Pike <sandrapike@appraisenow.com>\\nOpened', 'Sent February 24, 2020 10:30 AM', 'Delivered February 24, 2020 10:39 AM', 'Opened\\nChrome 79.0.3945.130 on Desktop computer\\nFebruary 24, 2020 3:02 PM', 'None', 'None']\n",
      "-------------------------\n",
      "['Gerald S Armstrong <jarmstrong@arenafund.com>\\nOpened', 'Sent February 24, 2020 10:30 AM', 'Delivered February 24, 2020 10:39 AM', 'Opened\\nSafari mobile on Mobile\\nFebruary 24, 2020 11:13 AM', 'None', 'None']\n",
      "-------------------------\n",
      "['Ernesto Sanchez <ernesto@aslantaxservice.com>\\nOpened', 'Sent February 24, 2020 10:30 AM', 'Delivered February 24, 2020 10:39 AM', 'Opened\\nGmail\\nFebruary 24, 2020 10:39 AM', 'None', 'None']\n",
      "-------------------------\n",
      "['Chris Scallon <chrisscallon@austin.rr.com>\\nOpened', 'Sent February 24, 2020 10:30 AM', 'Delivered February 24, 2020 10:39 AM', 'Opened\\nOutlook 2016 on Desktop computer\\nFebruary 24, 2020 12:03 PM', 'None', 'None']\n",
      "-------------------------\n",
      "['Linda Mattice <lmattice@aztechproductions.com>\\nOpened', 'Sent February 24, 2020 10:30 AM', 'Delivered February 24, 2020 10:39 AM', 'Opened\\nApple Mail on Desktop computer\\nFebruary 24, 2020 12:25 PM', 'None', 'None']\n",
      "-------------------------\n",
      "['Jeffrey Badler <jeff@badler.com>\\nOpened', 'Sent February 24, 2020 10:30 AM', 'Delivered February 24, 2020 10:39 AM', 'Opened\\nGmail\\nFebruary 24, 2020 10:39 AM', 'Opened\\nGmail\\nFebruary 24, 2020 10:47 AM', 'None', 'None']\n",
      "-------------------------\n",
      "['Cynthia Fitzgerald <cindy@barbarycoastproperties.com>\\nOpened', 'Sent February 24, 2020 10:30 AM', 'Delivered February 24, 2020 10:39 AM', 'Opened\\nApple Mail on Desktop computer\\nFebruary 25, 2020 7:27 AM', 'None', 'None']\n",
      "-------------------------\n",
      "['Stephen Baxley <sbaxley@bessemer.com>\\nOpened', 'Sent February 24, 2020 10:30 AM', 'Delivered February 24, 2020 10:39 AM', 'Opened\\nSafari mobile on Mobile\\nFebruary 24, 2020 10:47 AM', 'None', 'None']\n",
      "-------------------------\n",
      "['James Coppola <jcoppola@bhallp.com>\\nOpened', 'Sent February 24, 2020 10:30 AM', 'Delivered February 24, 2020 10:39 AM', 'Opened\\nMicrosoft Office on Desktop computer\\nFebruary 24, 2020 11:10 AM', 'None', 'None']\n",
      "-------------------------\n",
      "['Allan J Gushue <agushue@bicoastalmortgage.com>\\nOpened', 'Sent February 24, 2020 10:30 AM', 'Delivered February 24, 2020 10:39 AM', 'Opened\\nSafari mobile on Mobile\\nFebruary 24, 2020 10:40 AM', 'None', 'None']\n",
      "-------------------------\n",
      "['Betty Michelli <bmichelli@bizjournals.com>\\nOpened', 'Sent February 24, 2020 10:30 AM', 'Delivered February 24, 2020 10:33 AM', 'Opened\\nMicrosoft Office on Desktop computer\\nFebruary 24, 2020 12:15 PM', 'None', 'None']\n",
      "-------------------------\n",
      "['Gary Schiller <bmic@bmicmortgage.com>\\nClicked\\nhttps://expressanalytics.com/analytics/artificial-intelligence/machine-learning-in-data-analytics-2', 'Sent February 24, 2020 10:30 AM', 'Delivered February 24, 2020 10:39 AM', 'Opened\\nChrome 79.0.3945.130 on Desktop computer\\nFebruary 24, 2020 10:39 AM', 'Clicked\\nhttps://expressanalytics.com/analytics/artificial-intelligence/machine-learning-in-data-analytics-2\\nFebruary 24, 2020 10:39 AM', 'Clicked\\nhttps://expressanalytics.com/analytics/data-analytics/homomorphic-encryption-is-about-to-become-mainstream\\nFebruary 24, 2020 10:39 AM']\n",
      "-------------------------\n",
      "['Jeff Berg <jeff@bnc-insurance.com>\\nOpened', 'Sent February 24, 2020 10:30 AM', 'Delivered February 24, 2020 10:39 AM', 'Opened\\nMicrosoft Office on Desktop computer\\nFebruary 24, 2020 12:21 PM', 'None', 'None']\n",
      "-------------------------\n",
      "['Dennis Schaecher <dschaecher@bos-nc.com>\\nOpened', 'Sent February 24, 2020 10:30 AM', 'Delivered February 24, 2020 10:39 AM', 'Opened\\nApple Mail on Desktop computer\\nFebruary 24, 2020 10:39 AM', 'None', 'None']\n",
      "-------------------------\n",
      "['Peter Callahan <peter.callahan@build.com>\\nOpened', 'Sent February 24, 2020 10:30 AM', 'Deferred (pending) February 24, 2020 10:39 AM', 'Delivered February 24, 2020 10:40 AM', 'Opened\\nGmail\\nFebruary 24, 2020 3:00 PM', 'None', 'None']\n",
      "-------------------------\n",
      "['Ralph L Ricciardelli <ralph@burzenski.com>\\nOpened', 'Sent February 24, 2020 10:30 AM', 'Delivered February 24, 2020 10:39 AM', 'Opened\\nSafari mobile on Mobile\\nFebruary 24, 2020 10:49 AM', 'None', 'None']\n",
      "-------------------------\n",
      "['Sharon Hennessey <hhllc@ca.rr.com>\\nOpened', 'Sent February 24, 2020 10:30 AM', 'Delivered February 24, 2020 10:39 AM', 'Opened\\nMicrosoft Office on Desktop computer\\nFebruary 24, 2020 11:17 AM', 'Opened\\nMicrosoft Office on Desktop computer\\nFebruary 24, 2020 12:02 PM', 'None', 'None']\n",
      "-------------------------\n",
      "['Frank Marmo <fmarmo@cablevision.com>\\nOpened', 'Sent February 24, 2020 10:30 AM', 'Delivered February 24, 2020 10:39 AM', 'Opened\\nOutlook 2013 on Desktop computer\\nFebruary 24, 2020 12:09 PM', 'None', 'None']\n",
      "-------------------------\n",
      "['Richard Citron <rcitron@candlaw.com>\\nOpened', 'Sent February 24, 2020 10:30 AM', 'Delivered February 24, 2020 10:39 AM', 'Opened\\nApple Mail on Desktop computer\\nFebruary 24, 2020 10:55 AM', 'None', 'None']\n",
      "-------------------------\n",
      "['Steve Davis <sdavis@capitalfirstllc.com>\\nOpened', 'Sent February 24, 2020 10:30 AM', 'Delivered February 24, 2020 10:39 AM', 'Opened\\nSafari mobile on Mobile\\nFebruary 24, 2020 10:41 AM', 'None', 'None']\n",
      "-------------------------\n",
      "['Jim Fowler <jim.fowler@caremark.com>\\nOpened', 'Sent February 24, 2020 10:30 AM', 'Delivered February 24, 2020 10:41 AM', 'Opened\\nSafari mobile on Tablet\\nFebruary 24, 2020 10:41 AM', 'None', 'None']\n",
      "-------------------------\n",
      "[\"Patrick D O'keefe <patrick@cascadeinsure.com>\\nOpened\", 'Sent February 24, 2020 10:30 AM', 'Delivered February 24, 2020 10:39 AM', 'Opened\\nSafari mobile on Mobile\\nFebruary 24, 2020 11:44 AM', 'None', 'None']\n",
      "-------------------------\n",
      "['Phillip Tomaszewski <phil-mpcf@cfl.rr.com>\\nOpened', 'Sent February 24, 2020 10:30 AM', 'Delivered February 24, 2020 10:39 AM', 'Opened\\nApple Mail on Desktop computer\\nFebruary 25, 2020 4:58 AM', 'None', 'None']\n",
      "-------------------------\n",
      "['John Barbosa <jbarbosa@challengeofficeproducts.com>\\nOpened', 'Sent February 24, 2020 10:30 AM', 'Delivered February 24, 2020 10:39 AM', 'Opened\\nSafari mobile on Mobile\\nFebruary 24, 2020 10:49 AM', 'None', 'None']\n",
      "-------------------------\n"
     ]
    },
    {
     "name": "stdout",
     "output_type": "stream",
     "text": [
      "['Kathleen Vaillancourt <kathleen@claremontcompanies.com>\\nOpened', 'Sent February 24, 2020 10:30 AM', 'Delivered February 24, 2020 10:39 AM', 'Opened\\nWkHTMLtoPDF on Desktop computer\\nFebruary 24, 2020 10:39 AM', 'None', 'None']\n",
      "-------------------------\n",
      "['John Rakowski <jrakowski@clearsightadvisors.com>\\nOpened', 'Sent February 24, 2020 10:30 AM', 'Delivered February 24, 2020 10:39 AM', 'Opened\\nOutlook Mobile 4.25.0 on Mobile\\nFebruary 24, 2020 10:47 AM', 'None', 'None']\n",
      "-------------------------\n",
      "['Steve Pitzer <steve.pitzer@coastepa.com>\\nClicked\\nhttp://expressanalytics.com/', 'Sent February 24, 2020 10:30 AM', 'Delivered February 24, 2020 10:39 AM', 'Opened\\nIE 11.0 on Desktop computer\\nFebruary 24, 2020 10:43 AM', 'Clicked\\nhttp://expressanalytics.com/\\nFebruary 24, 2020 10:43 AM', 'Clicked\\nhttp://expressanalytics.com/\\nFebruary 24, 2020 10:43 AM']\n",
      "-------------------------\n",
      "['William Osborn <wosborn@commonscapital.com>\\nOpened', 'Sent February 24, 2020 10:30 AM', 'Delivered February 24, 2020 10:39 AM', 'Opened\\nSafari mobile on Mobile\\nFebruary 24, 2020 3:07 PM', 'None', 'None']\n",
      "-------------------------\n",
      "['Allison Ambrose <aambrose@controlchief.com>\\nOpened', 'Sent February 24, 2020 10:30 AM', 'Delivered February 24, 2020 10:39 AM', 'Opened\\nIE 10.0 on Desktop computer\\nFebruary 25, 2020 10:27 AM', 'None', 'None']\n",
      "-------------------------\n",
      "['Thomas Conwell <tconwell@credittechnologies.com>\\nOpened', 'Sent February 24, 2020 10:30 AM', 'Delivered February 24, 2020 10:39 AM', 'Opened\\nOutlook 2016 on Desktop computer\\nFebruary 24, 2020 12:41 PM', 'None', 'None']\n",
      "-------------------------\n",
      "['Jacob P Sommers <jacob@cuttingedgeinsurance.com>\\nOpened', 'Sent February 24, 2020 10:30 AM', 'Delivered February 24, 2020 10:39 AM', 'Opened\\nOutlook 2016 on Desktop computer\\nFebruary 24, 2020 10:51 AM', 'None', 'None']\n",
      "-------------------------\n",
      "['Cindy Mikesell <mikesell-j@cybernet1.com>\\nOpened', 'Sent February 24, 2020 10:30 AM', 'Delivered February 24, 2020 10:39 AM', 'Opened\\nThunderbird 68.5.0 on Desktop computer\\nFebruary 25, 2020 10:14 AM', 'None', 'None']\n",
      "-------------------------\n",
      "['Christopher T Greene <cgreene@damonmorey.com>\\nClicked\\nhttps://expressanalytics.com/analytics/artificial-intelligence/machine-learning-in-data-analytics-2', 'Sent February 24, 2020 10:30 AM', 'Delivered February 24, 2020 10:39 AM', 'Clicked\\nhttps://expressanalytics.com/analytics/artificial-intelligence/machine-learning-in-data-analytics-2\\nFebruary 24, 2020 10:39 AM', 'Clicked\\nhttps://expressanalytics.com/analytics/data-analytics/homomorphic-encryption-is-about-to-become-mainstream\\nFebruary 24, 2020 10:39 AM', 'Opened\\nIE 11.0 on Desktop computer\\nFebruary 24, 2020 10:39 AM']\n",
      "-------------------------\n",
      "['Norman T Daniels <normdaniels@danielslawfirm.com>\\nOpened', 'Sent February 24, 2020 10:30 AM', 'Delivered February 24, 2020 10:33 AM', 'Opened\\nSafari mobile on Mobile\\nFebruary 25, 2020 4:57 AM', 'None', 'None']\n",
      "-------------------------\n",
      "['John T Wilson <jwilson@deltadentalva.com>\\nOpened', 'Sent February 24, 2020 10:30 AM', 'Delivered February 24, 2020 10:39 AM', 'Opened\\nSafari mobile on Mobile\\nFebruary 24, 2020 10:41 AM', 'None', 'None']\n",
      "-------------------------\n",
      "['David M Rubnitz <dmrubnitz@ebenconcepts.com>\\nOpened', 'Sent February 24, 2020 10:30 AM', 'Delivered February 24, 2020 10:39 AM', 'Opened\\nSafari mobile on Mobile\\nFebruary 24, 2020 10:45 AM', 'None', 'None']\n",
      "-------------------------\n",
      "['Frank S Fung <ffung@ed2intl.com>\\nOpened', 'Sent February 24, 2020 10:30 AM', 'Delivered February 24, 2020 10:39 AM', 'Opened\\nSafari mobile on Mobile\\nFebruary 24, 2020 1:14 PM', 'None', 'None']\n",
      "-------------------------\n",
      "['Nicki Elsberry <nicki.elsberry@edwardjones.com>\\nOpened', 'Sent February 24, 2020 10:30 AM', 'Delivered February 24, 2020 10:39 AM', 'Opened\\nSafari mobile on Mobile\\nFebruary 24, 2020 10:41 AM', 'None', 'None']\n",
      "-------------------------\n",
      "['Efim Gilin <efimgilin@efimgilin.com>\\nOpened', 'Sent February 24, 2020 10:30 AM', 'Delivered February 24, 2020 10:39 AM', 'Opened\\nSafari mobile on Mobile\\nFebruary 25, 2020 12:38 AM', 'None', 'None']\n",
      "-------------------------\n",
      "['Bruce G Kelley <emcins.group@emcins.com>\\nOpened', 'Sent February 24, 2020 10:30 AM', 'Delivered February 24, 2020 10:33 AM', 'Opened\\nOutlook 2016 on Desktop computer\\nFebruary 26, 2020 10:49 AM', 'None', 'None']\n",
      "-------------------------\n",
      "['Steve Walker <walker@epesolutions.com>\\nOpened', 'Sent February 24, 2020 10:30 AM', 'Delivered February 24, 2020 10:39 AM', 'Opened\\nApple Mail on Desktop computer\\nFebruary 24, 2020 10:01 PM', 'None', 'None']\n",
      "-------------------------\n",
      "['Scott Evans <scott@familyga.com>\\nOpened', 'Sent February 24, 2020 10:30 AM', 'Delivered February 24, 2020 10:39 AM', 'Opened\\nMicrosoft Office on Desktop computer\\nFebruary 24, 2020 11:41 AM', 'None', 'None']\n",
      "-------------------------\n",
      "['Harvey Fliesher <harvey@fdcpas.com>\\nOpened', 'Sent February 24, 2020 10:30 AM', 'Delivered February 24, 2020 10:39 AM', 'Opened\\nOutlook 2013 on Desktop computer\\nFebruary 24, 2020 2:21 PM', 'None', 'None']\n",
      "-------------------------\n",
      "['Timothy P Esler <tesler@fenner-esler.com>\\nOpened', 'Sent February 24, 2020 10:30 AM', 'Delivered February 24, 2020 10:39 AM', 'Opened\\nOutlook 2016 on Desktop computer\\nFebruary 24, 2020 5:05 PM', 'None', 'None']\n",
      "-------------------------\n",
      "['David Abert <dabert@firstrehab.com>\\nOpened', 'Sent February 24, 2020 10:30 AM', 'Delivered February 24, 2020 10:39 AM', 'Opened\\nSafari mobile on Mobile\\nFebruary 24, 2020 10:42 AM', 'None', 'None']\n",
      "-------------------------\n",
      "['Michael Del Re Iii <mjdelreiii@fnlonline.com>\\nOpened', 'Sent February 24, 2020 10:30 AM', 'Delivered February 24, 2020 10:39 AM', 'Opened\\nSafari mobile on Mobile\\nFebruary 24, 2020 10:40 AM', 'None', 'None']\n",
      "-------------------------\n",
      "['Mike Tarter <mitarter@forchtbroadcasting.com>\\nOpened', 'Sent February 24, 2020 10:30 AM', 'Delivered February 24, 2020 10:39 AM', 'Opened\\nSafari mobile on Mobile\\nFebruary 24, 2020 6:16 PM', 'None', 'None']\n",
      "-------------------------\n",
      "['Clay Walker <walkerc@forestry-suppliers.com>\\nOpened', 'Sent February 24, 2020 10:30 AM', 'Delivered February 24, 2020 10:39 AM', 'Opened\\nMicrosoft Office on Desktop computer\\nFebruary 24, 2020 12:11 PM', 'None', 'None']\n",
      "-------------------------\n",
      "['Blair Nicol <bnicol@frannet.com>\\nOpened', 'Sent February 24, 2020 10:30 AM', 'Delivered February 24, 2020 10:39 AM', 'Opened\\nApple Mail on Desktop computer\\nFebruary 24, 2020 10:56 AM', 'None', 'None']\n",
      "-------------------------\n",
      "['William Warriner <goodwill@fwgoodwill.org>\\nOpened', 'Sent February 24, 2020 10:30 AM', 'Delivered February 24, 2020 10:33 AM', 'Opened\\nMicrosoft Office on Desktop computer\\nFebruary 24, 2020 12:48 PM', 'None', 'None']\n",
      "-------------------------\n",
      "['Morgan Gabler <mgabler@gableryoungston.com>\\nOpened', 'Sent February 24, 2020 10:30 AM', 'Delivered February 24, 2020 10:39 AM', 'Opened\\nApple Mail on Desktop computer\\nFebruary 24, 2020 10:56 AM', 'None', 'None']\n",
      "-------------------------\n",
      "['David Kiesel <dave@gahealthbroker.com>\\nOpened', 'Sent February 24, 2020 10:30 AM', 'Delivered February 24, 2020 10:39 AM', 'Opened\\nApple Mail on Desktop computer\\nFebruary 24, 2020 10:59 AM', 'None', 'None']\n",
      "-------------------------\n",
      "['Tye G Darland <tdarland@gapac.com>\\nOpened', 'Sent February 24, 2020 10:30 AM', 'Delivered February 24, 2020 10:39 AM', 'Opened\\nOutlook Mobile 4.25.0 on Mobile\\nFebruary 24, 2020 10:45 AM', 'None', 'None']\n",
      "-------------------------\n",
      "['Todd A Eyres <taeyres@gapac.com>\\nOpened', 'Sent February 24, 2020 10:30 AM', 'Delivered February 24, 2020 10:39 AM', 'Opened\\nAndroid webview on Mobile\\nFebruary 24, 2020 11:24 AM', 'None', 'None']\n",
      "-------------------------\n",
      "['Joseph Bucci <j.bucci@gbac.com>\\nOpened', 'Sent February 24, 2020 10:30 AM', 'Delivered February 24, 2020 10:39 AM', 'Opened\\nApple Mail on Desktop computer\\nFebruary 24, 2020 10:39 AM', 'None', 'None']\n",
      "-------------------------\n",
      "['Hans Bergsten <hans@gefionsoftware.com>\\nOpened', 'Sent February 24, 2020 10:30 AM', 'Delivered February 24, 2020 10:39 AM', 'Opened\\nApple Mail on Desktop computer\\nFebruary 24, 2020 12:14 PM', 'None', 'None']\n",
      "-------------------------\n",
      "['Stephanie Cohen <stephanie@golden-cohen.com>\\nOpened', 'Sent February 24, 2020 10:30 AM', 'Delivered February 24, 2020 10:39 AM', 'Opened\\nSafari mobile on Mobile\\nFebruary 24, 2020 10:41 AM', 'None', 'None']\n",
      "-------------------------\n"
     ]
    },
    {
     "name": "stdout",
     "output_type": "stream",
     "text": [
      "['V Burdick <vburdick@goldengate.net>\\nOpened', 'Sent February 24, 2020 10:30 AM', 'Delivered February 24, 2020 10:39 AM', 'Opened\\nMicrosoft Edge 18.18363 on Desktop computer\\nFebruary 25, 2020 4:12 AM', 'None', 'None']\n",
      "-------------------------\n",
      "['Deborah A Buckley <dbuckley@gossmclain.com>\\nOpened', 'Sent February 24, 2020 10:30 AM', 'Delivered February 24, 2020 10:39 AM', 'Opened\\nSafari mobile on Mobile\\nFebruary 24, 2020 3:05 PM', 'None', 'None']\n",
      "-------------------------\n",
      "['Grace S Keniston <inbox@gracekeniston.com>\\nOpened', 'Sent February 24, 2020 10:30 AM', 'Delivered February 24, 2020 10:39 AM', 'Opened\\nSafari mobile on Tablet\\nFebruary 24, 2020 1:54 PM', 'None', 'None']\n",
      "-------------------------\n",
      "['Gregory Lunn <greg@greglunn.com>\\nOpened', 'Sent February 24, 2020 10:30 AM', 'Delivered February 24, 2020 10:39 AM', 'Opened\\nGmail\\nFebruary 24, 2020 10:41 AM', 'None', 'None']\n",
      "-------------------------\n",
      "['William E Philbrick <wphilbrick@grkb.com>\\nOpened', 'Sent February 24, 2020 10:30 AM', 'Delivered February 24, 2020 10:39 AM', 'Opened\\nMicrosoft Office on Desktop computer\\nFebruary 24, 2020 11:30 AM', 'Opened\\nMicrosoft Office on Desktop computer\\nFebruary 24, 2020 12:38 PM', 'Opened\\nMicrosoft Office on Desktop computer\\nFebruary 24, 2020 1:02 PM', 'None', 'None']\n",
      "-------------------------\n",
      "['Sandy Dinsmore <sandy_dinsmoredms@gt.rr.com>\\nOpened', 'Sent February 24, 2020 10:30 AM', 'Delivered February 24, 2020 10:39 AM', 'Opened\\nSafari mobile on Mobile\\nFebruary 24, 2020 2:46 PM', 'None', 'None']\n",
      "-------------------------\n",
      "['Joel Nishimoto <joel.nishimoto@halekulani.com>\\nOpened', 'Sent February 24, 2020 10:30 AM', 'Delivered February 24, 2020 10:39 AM', 'Opened\\nSafari mobile on Mobile\\nFebruary 24, 2020 10:55 AM', 'Opened\\nSafari mobile on Mobile\\nFebruary 24, 2020 11:39 AM', 'None', 'None']\n",
      "-------------------------\n",
      "['Haines Erik <e_haines@hawaiiopera.org>\\nOpened', 'Sent February 24, 2020 10:30 AM', 'Delivered February 24, 2020 10:39 AM', 'Opened\\nApple Mail on Desktop computer\\nFebruary 24, 2020 11:07 AM', 'None', 'None']\n",
      "-------------------------\n",
      "['Jim Pastorius <jpastorius@hazlettburt.com>\\nOpened', 'Sent February 24, 2020 10:30 AM', 'Delivered February 24, 2020 10:39 AM', 'Opened\\nlua-resty-http 0.07 on Unknown\\nFebruary 24, 2020 10:52 AM', 'None', 'None']\n",
      "-------------------------\n",
      "['William Goeman <goeman@hcinet.net>\\nOpened', 'Sent February 24, 2020 10:30 AM', 'Delivered February 24, 2020 10:39 AM', 'Opened\\nIE 11.0 on Desktop computer\\nFebruary 25, 2020 1:34 PM', 'None', 'None']\n",
      "-------------------------\n",
      "['Kenneth W Head <ken@headfinancial.com>\\nOpened', 'Sent February 24, 2020 10:30 AM', 'Delivered February 24, 2020 10:39 AM', 'Opened\\nMicrosoft Office on Desktop computer\\nFebruary 24, 2020 10:44 AM', 'None', 'None']\n",
      "-------------------------\n",
      "['Darcy Bentley <dbentley@hearst.com>\\nOpened', 'Sent February 24, 2020 10:30 AM', 'Delivered February 24, 2020 10:39 AM', 'Opened\\nApple Mail on Desktop computer\\nFebruary 24, 2020 10:44 AM', 'None', 'None']\n",
      "-------------------------\n",
      "['Cassandra L Triggs <ctriggs@hearstsc.com>\\nOpened', 'Sent February 24, 2020 10:30 AM', 'Delivered February 24, 2020 10:39 AM', 'Opened\\nMicrosoft Office on Desktop computer\\nFebruary 24, 2020 12:54 PM', 'None', 'None']\n",
      "-------------------------\n",
      "['Bert B Hene Iii <bert@henehealthbrokerage.com>\\nOpened', 'Sent February 24, 2020 10:30 AM', 'Delivered February 24, 2020 10:39 AM', 'Opened\\nSafari mobile on Mobile\\nFebruary 24, 2020 10:39 AM', 'None', 'None']\n",
      "-------------------------\n",
      "['Shruti Sahu <shruti_sahu@homedepot.com>\\nOpened', 'Sent February 24, 2020 10:30 AM', 'Delivered February 24, 2020 10:39 AM', 'Opened\\nMicrosoft Office on Desktop computer\\nFebruary 24, 2020 11:22 AM', 'None', 'None']\n",
      "-------------------------\n",
      "['Jess Mcclellan <jmcclellan@homesensemortgage.com>\\nOpened', 'Sent February 24, 2020 10:30 AM', 'Delivered February 24, 2020 10:39 AM', 'Opened\\nSafari mobile on Mobile\\nFebruary 24, 2020 12:15 PM', 'None', 'None']\n",
      "-------------------------\n",
      "['Douglas Skinner <dskinner@hoosierdental.com>\\nOpened', 'Sent February 24, 2020 10:30 AM', 'Delivered February 24, 2020 10:39 AM', 'Opened\\nMicrosoft Office on Desktop computer\\nFebruary 24, 2020 11:55 AM', 'None', 'None']\n",
      "-------------------------\n",
      "['Hame Persaud <hame@hpingredients.com>\\nOpened', 'Sent February 24, 2020 10:30 AM', 'Delivered February 24, 2020 10:39 AM', 'Opened\\nOutlook 2016 on Desktop computer\\nFebruary 24, 2020 11:03 AM', 'None', 'None']\n",
      "-------------------------\n",
      "['Jeff Moulton <jmoulton@humana.com>\\nOpened', 'Sent February 24, 2020 10:30 AM', 'Delivered February 24, 2020 10:39 AM', 'Opened\\nOutlook 2016 on Desktop computer\\nFebruary 24, 2020 11:06 AM', 'None', 'None']\n",
      "-------------------------\n",
      "['Connie Cook Ramos <cramos@humana.com>\\nClicked\\nhttp://expressanalytics.com/', 'Sent February 24, 2020 10:30 AM', 'Delivered February 24, 2020 10:39 AM', 'Opened\\nIE 11.0 on Desktop computer\\nFebruary 24, 2020 10:39 AM', 'Clicked\\nhttp://expressanalytics.com/\\nFebruary 24, 2020 10:39 AM']\n",
      "-------------------------\n",
      "['Matthew Clapp <mclapp@humana.com>\\nClicked\\nhttps://expressanalytics.com/analytics/data-analytics/homomorphic-encryption-is-about-to-become-mainstream', 'Sent February 24, 2020 10:30 AM', 'Delivered February 24, 2020 10:39 AM', 'Opened\\nIE 11.0 on Desktop computer\\nFebruary 24, 2020 10:39 AM', 'Clicked\\nhttps://expressanalytics.com/analytics/data-analytics/homomorphic-encryption-is-about-to-become-mainstream\\nFebruary 24, 2020 10:39 AM']\n",
      "-------------------------\n",
      "['Shelly S Gilmore <sgilmore7@humana.com>\\nClicked\\nhttp://expressanalytics.com/', 'Sent February 24, 2020 10:30 AM', 'Delivered February 24, 2020 10:39 AM', 'Opened\\nIE 11.0 on Desktop computer\\nFebruary 24, 2020 10:39 AM', 'Clicked\\nhttp://expressanalytics.com/\\nFebruary 24, 2020 10:39 AM']\n",
      "-------------------------\n",
      "['Cindy L Maurizi <cmaurizi@humana.com>\\nOpened', 'Sent February 24, 2020 10:30 AM', 'Delivered February 24, 2020 10:39 AM', 'Opened\\nIE 11.0 on Desktop computer\\nFebruary 24, 2020 10:39 AM', 'None', 'None']\n",
      "-------------------------\n",
      "['Gregorio Polimeni <gregoriojr@iltulipano.com>\\nOpened', 'Sent February 24, 2020 10:30 AM', 'Delivered February 24, 2020 10:39 AM', 'Opened\\nMicrosoft Office on Desktop computer\\nFebruary 24, 2020 10:50 AM', 'None', 'None']\n",
      "-------------------------\n",
      "['Todd Mcguire <tmcguire@incentahealth.com>\\nOpened', 'Sent February 24, 2020 10:30 AM', 'Delivered February 24, 2020 10:39 AM', 'Opened\\nApple Mail on Desktop computer\\nFebruary 24, 2020 1:34 PM', 'None', 'None']\n",
      "-------------------------\n",
      "['Luis Duarte <lduarte@inreach.com>\\nOpened', 'Sent February 24, 2020 10:30 AM', 'Delivered February 24, 2020 10:39 AM', 'Opened\\nMicrosoft Office on Desktop computer\\nFebruary 24, 2020 1:11 PM', 'None', 'None']\n",
      "-------------------------\n",
      "['Gloria J Mills <gloria@irescue-tax.com>\\nOpened', 'Sent February 24, 2020 10:30 AM', 'Delivered February 24, 2020 10:39 AM', 'Opened\\nMicrosoft Office on Desktop computer\\nFebruary 24, 2020 7:58 PM', 'Opened\\nOutlook 2010 on Desktop computer\\nFebruary 25, 2020 8:07 AM', 'None', 'None']\n",
      "-------------------------\n",
      "['Michael Jiggetts Sr <jam@itranu.com>\\nOpened', 'Sent February 24, 2020 10:30 AM', 'Delivered February 24, 2020 10:39 AM', 'Opened\\nSafari mobile on Mobile\\nFebruary 24, 2020 12:26 PM', 'None', 'None']\n",
      "-------------------------\n",
      "['Janette M Meyer <janette@janettemeyerassoc.com>\\nOpened', 'Sent February 24, 2020 10:30 AM', 'Delivered February 24, 2020 10:39 AM', 'Opened\\nMicrosoft Office on Desktop computer\\nFebruary 24, 2020 3:58 PM', 'None', 'None']\n",
      "-------------------------\n",
      "['Larry Brown <larry@jbap.com>\\nOpened', 'Sent February 24, 2020 10:30 AM', 'Delivered February 24, 2020 10:39 AM', 'Opened\\nOutlook 2010 on Desktop computer\\nFebruary 24, 2020 12:00 PM', 'None', 'None']\n",
      "-------------------------\n",
      "['Steve Wyatt <swyatt@kennethcole.com>\\nOpened', 'Sent February 24, 2020 10:30 AM', 'Delivered February 24, 2020 10:39 AM', 'Opened\\nApple Mail on Desktop computer\\nFebruary 24, 2020 10:41 AM', 'None', 'None']\n",
      "-------------------------\n",
      "['Ken Smith <ksmith@kensmithrealty.com>\\nOpened', 'Sent February 24, 2020 10:30 AM', 'Delivered February 24, 2020 10:39 AM', 'Opened\\nApple Mail on Desktop computer\\nFebruary 24, 2020 10:52 AM', 'None', 'None']\n",
      "-------------------------\n"
     ]
    },
    {
     "name": "stdout",
     "output_type": "stream",
     "text": [
      "['Michael C Klein <mklein@kleinbros.com>\\nOpened', 'Sent February 24, 2020 10:30 AM', 'Delivered February 24, 2020 10:39 AM', 'Opened\\nMicrosoft Office on Desktop computer\\nFebruary 24, 2020 10:56 AM', 'None', 'None']\n",
      "-------------------------\n",
      "['Rishi Bunsee <rishi@klkelectric.com>\\nOpened', 'Sent February 24, 2020 10:30 AM', 'Delivered February 24, 2020 10:39 AM', 'Opened\\nSafari mobile on Mobile\\nFebruary 24, 2020 2:32 PM', 'None', 'None']\n",
      "-------------------------\n",
      "['Joseph Krozak <jckrozak@krozak.com>\\nOpened', 'Sent February 24, 2020 10:30 AM', 'Delivered February 24, 2020 10:33 AM', 'Opened\\nApple Mail on Desktop computer\\nFebruary 24, 2020 8:29 PM', 'None', 'None']\n",
      "-------------------------\n"
     ]
    }
   ],
   "source": [
    "\n",
    "#for i in range(2):\n",
    "hubspot_report()\n",
    "#print(Click_list)\n",
    "#driver.find_element_by_xpath(\"//text()[.='Next']/ancestor::button[1]\").click()\n",
    "    #print(\"--\")\n"
   ]
  },
  {
   "cell_type": "code",
   "execution_count": 191,
   "metadata": {},
   "outputs": [
    {
     "ename": "NameError",
     "evalue": "name 'click_list' is not defined",
     "output_type": "error",
     "traceback": [
      "\u001b[1;31m---------------------------------------------------------------------------\u001b[0m",
      "\u001b[1;31mNameError\u001b[0m                                 Traceback (most recent call last)",
      "\u001b[1;32m<ipython-input-191-41628acf3a59>\u001b[0m in \u001b[0;36m<module>\u001b[1;34m\u001b[0m\n\u001b[1;32m----> 1\u001b[1;33m \u001b[0mclick_list\u001b[0m\u001b[1;33m\u001b[0m\u001b[1;33m\u001b[0m\u001b[0m\n\u001b[0m",
      "\u001b[1;31mNameError\u001b[0m: name 'click_list' is not defined"
     ]
    }
   ],
   "source": [
    "click_list"
   ]
  },
  {
   "cell_type": "code",
   "execution_count": 193,
   "metadata": {},
   "outputs": [
    {
     "ename": "NameError",
     "evalue": "name 'click_list' is not defined",
     "output_type": "error",
     "traceback": [
      "\u001b[1;31m---------------------------------------------------------------------------\u001b[0m",
      "\u001b[1;31mNameError\u001b[0m                                 Traceback (most recent call last)",
      "\u001b[1;32m<ipython-input-193-913fff482864>\u001b[0m in \u001b[0;36m<module>\u001b[1;34m\u001b[0m\n\u001b[1;32m----> 1\u001b[1;33m \u001b[0mprint\u001b[0m\u001b[1;33m(\u001b[0m\u001b[0mclick_list\u001b[0m\u001b[1;33m)\u001b[0m\u001b[1;33m\u001b[0m\u001b[1;33m\u001b[0m\u001b[0m\n\u001b[0m",
      "\u001b[1;31mNameError\u001b[0m: name 'click_list' is not defined"
     ]
    }
   ],
   "source": [
    "print(click_list)"
   ]
  },
  {
   "cell_type": "code",
   "execution_count": 194,
   "metadata": {},
   "outputs": [],
   "source": [
    "import pandas as pd\n",
    "df = pd.DataFrame(Click_list,columns=['Opened','Sent','Delivered ','Clicked','Clicked','clicked','clicked','clicked'])"
   ]
  },
  {
   "cell_type": "code",
   "execution_count": 197,
   "metadata": {},
   "outputs": [],
   "source": [
    "df.to_csv('Hubspot_click_rate.csv')"
   ]
  },
  {
   "cell_type": "code",
   "execution_count": null,
   "metadata": {},
   "outputs": [],
   "source": []
  }
 ],
 "metadata": {
  "kernelspec": {
   "display_name": "Python 3",
   "language": "python",
   "name": "python3"
  },
  "language_info": {
   "codemirror_mode": {
    "name": "ipython",
    "version": 3
   },
   "file_extension": ".py",
   "mimetype": "text/x-python",
   "name": "python",
   "nbconvert_exporter": "python",
   "pygments_lexer": "ipython3",
   "version": "3.7.3"
  }
 },
 "nbformat": 4,
 "nbformat_minor": 2
}
